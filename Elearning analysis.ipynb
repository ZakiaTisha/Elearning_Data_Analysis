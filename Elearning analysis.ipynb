{
 "cells": [
  {
   "cell_type": "markdown",
   "metadata": {},
   "source": [
    "## Importing Libs &Reading CSV Cleaned File "
   ]
  },
  {
   "cell_type": "code",
   "execution_count": 161,
   "metadata": {},
   "outputs": [
    {
     "data": {
      "text/html": [
       "<div>\n",
       "<style scoped>\n",
       "    .dataframe tbody tr th:only-of-type {\n",
       "        vertical-align: middle;\n",
       "    }\n",
       "\n",
       "    .dataframe tbody tr th {\n",
       "        vertical-align: top;\n",
       "    }\n",
       "\n",
       "    .dataframe thead th {\n",
       "        text-align: right;\n",
       "    }\n",
       "</style>\n",
       "<table border=\"1\" class=\"dataframe\">\n",
       "  <thead>\n",
       "    <tr style=\"text-align: right;\">\n",
       "      <th></th>\n",
       "      <th>Platform Name</th>\n",
       "      <th>Courses with highest price(in tk)</th>\n",
       "      <th>Courses with lowest price(in tk)</th>\n",
       "      <th>Facebook</th>\n",
       "      <th>You Tube</th>\n",
       "      <th>Number of employees</th>\n",
       "      <th>Financier</th>\n",
       "    </tr>\n",
       "  </thead>\n",
       "  <tbody>\n",
       "    <tr>\n",
       "      <th>0</th>\n",
       "      <td>Robi 10 minutes school</td>\n",
       "      <td>3000</td>\n",
       "      <td>450</td>\n",
       "      <td>1800000</td>\n",
       "      <td>1850000.0</td>\n",
       "      <td>51-200</td>\n",
       "      <td>Local market finance</td>\n",
       "    </tr>\n",
       "    <tr>\n",
       "      <th>1</th>\n",
       "      <td>Bright Skills</td>\n",
       "      <td>5000</td>\n",
       "      <td>750</td>\n",
       "      <td>5000</td>\n",
       "      <td>2000.0</td>\n",
       "      <td>20-50</td>\n",
       "      <td>NaN</td>\n",
       "    </tr>\n",
       "    <tr>\n",
       "      <th>2</th>\n",
       "      <td>Amar iSchool - à¦à¦®à¦¾à¦° à¦-à¦¸à§à¦à§à¦²</td>\n",
       "      <td>15000</td>\n",
       "      <td>500</td>\n",
       "      <td>32000</td>\n",
       "      <td>1690.0</td>\n",
       "      <td>51-200</td>\n",
       "      <td>Own finance</td>\n",
       "    </tr>\n",
       "    <tr>\n",
       "      <th>3</th>\n",
       "      <td>Amar Pathshala</td>\n",
       "      <td>5000</td>\n",
       "      <td>500</td>\n",
       "      <td>34</td>\n",
       "      <td>44600.0</td>\n",
       "      <td>Nov-50</td>\n",
       "      <td>Own finance</td>\n",
       "    </tr>\n",
       "    <tr>\n",
       "      <th>4</th>\n",
       "      <td>BacBon School</td>\n",
       "      <td>5000</td>\n",
       "      <td>500</td>\n",
       "      <td>15000</td>\n",
       "      <td>33.0</td>\n",
       "      <td>50</td>\n",
       "      <td>Own finance</td>\n",
       "    </tr>\n",
       "  </tbody>\n",
       "</table>\n",
       "</div>"
      ],
      "text/plain": [
       "                                     Platform Name  \\\n",
       "0                           Robi 10 minutes school   \n",
       "1                                    Bright Skills   \n",
       "2  Amar iSchool - à¦à¦®à¦¾à¦° à¦-à¦¸à§à¦à§à¦²   \n",
       "3                                   Amar Pathshala   \n",
       "4                                    BacBon School   \n",
       "\n",
       "   Courses with highest price(in tk)  Courses with lowest price(in tk)  \\\n",
       "0                               3000                               450   \n",
       "1                               5000                               750   \n",
       "2                              15000                               500   \n",
       "3                               5000                               500   \n",
       "4                               5000                               500   \n",
       "\n",
       "   Facebook   You Tube Number of employees             Financier  \n",
       "0   1800000  1850000.0              51-200  Local market finance  \n",
       "1      5000     2000.0               20-50                   NaN  \n",
       "2     32000     1690.0              51-200           Own finance  \n",
       "3        34    44600.0              Nov-50           Own finance  \n",
       "4     15000       33.0                  50           Own finance  "
      ]
     },
     "metadata": {},
     "output_type": "display_data"
    },
    {
     "name": "stdout",
     "output_type": "stream",
     "text": [
      "(54, 7)\n"
     ]
    }
   ],
   "source": [
    "from sklearn.linear_model import LinearRegression\n",
    "from sklearn.model_selection import train_test_split\n",
    "from sklearn.metrics import mean_squared_error\n",
    "\n",
    "import pandas as pd\n",
    "import pandas as pd\n",
    "import numpy as np\n",
    "from sklearn.metrics import r2_score, mean_absolute_error, mean_squared_error\n",
    "\n",
    "from sklearn.linear_model import LinearRegression\n",
    "from sklearn.model_selection import train_test_split\n",
    "from sklearn.preprocessing import LabelEncoder\n",
    "\n",
    "import matplotlib.pyplot as plt\n",
    "import seaborn as sns\n",
    "\n",
    "# to remove unnecessary warnings\n",
    "import warnings\n",
    "\n",
    "warnings.filterwarnings('ignore')\n",
    "\n",
    "# to generate clear images\n",
    "sns.set_context('talk')\n",
    "\n",
    "import pandas as pd\n",
    "\n",
    "df = pd.read_csv(\"e - Sheet1.csv\", encoding='latin1')\n",
    "display(df.head())\n",
    "print(df.shape)\n",
    "\n",
    "\n"
   ]
  },
  {
   "cell_type": "markdown",
   "metadata": {},
   "source": [
    "## Column Name array"
   ]
  },
  {
   "cell_type": "code",
   "execution_count": 162,
   "metadata": {},
   "outputs": [
    {
     "data": {
      "text/plain": [
       "Index(['Platform Name', 'Courses with highest price(in tk)',\n",
       "       'Courses with lowest price(in tk)', 'Facebook', 'You Tube',\n",
       "       'Number of employees', 'Financier'],\n",
       "      dtype='object')"
      ]
     },
     "execution_count": 162,
     "metadata": {},
     "output_type": "execute_result"
    }
   ],
   "source": [
    "df.columns\n",
    "\n",
    "\n"
   ]
  },
  {
   "cell_type": "code",
   "execution_count": 163,
   "metadata": {},
   "outputs": [
    {
     "data": {
      "text/plain": [
       "Index(['Platform Name', 'Courses with highest price(in tk)',\n",
       "       'Courses with lowest price(in tk)', 'Facebook', 'You Tube',\n",
       "       'Number of employees', 'Financier'],\n",
       "      dtype='object')"
      ]
     },
     "execution_count": 163,
     "metadata": {},
     "output_type": "execute_result"
    }
   ],
   "source": [
    "df.columns"
   ]
  },
  {
   "cell_type": "markdown",
   "metadata": {},
   "source": [
    "## Statistical Data and Data Typr"
   ]
  },
  {
   "cell_type": "code",
   "execution_count": 164,
   "metadata": {},
   "outputs": [
    {
     "name": "stdout",
     "output_type": "stream",
     "text": [
      "<class 'pandas.core.frame.DataFrame'>\n",
      "RangeIndex: 54 entries, 0 to 53\n",
      "Data columns (total 7 columns):\n",
      " #   Column                             Non-Null Count  Dtype  \n",
      "---  ------                             --------------  -----  \n",
      " 0   Platform Name                      54 non-null     object \n",
      " 1   Courses with highest price(in tk)  54 non-null     int64  \n",
      " 2   Courses with lowest price(in tk)   54 non-null     int64  \n",
      " 3   Facebook                           54 non-null     int64  \n",
      " 4   You Tube                           49 non-null     float64\n",
      " 5   Number of employees                35 non-null     object \n",
      " 6   Financier                          52 non-null     object \n",
      "dtypes: float64(1), int64(3), object(3)\n",
      "memory usage: 3.1+ KB\n",
      "None\n"
     ]
    }
   ],
   "source": [
    "print(df.info())\n"
   ]
  },
  {
   "cell_type": "markdown",
   "metadata": {},
   "source": [
    "## One Hot Encoding "
   ]
  },
  {
   "cell_type": "code",
   "execution_count": 165,
   "metadata": {},
   "outputs": [],
   "source": [
    "df = pd.get_dummies(df, drop_first=True)"
   ]
  },
  {
   "cell_type": "markdown",
   "metadata": {},
   "source": [
    "## Create Train and Test Set"
   ]
  },
  {
   "cell_type": "code",
   "execution_count": null,
   "metadata": {},
   "outputs": [],
   "source": [
    "features = ['Platform Name']\n",
    "target = [ 'Courses with highest price(in tk)']\n",
    "X = df[features]\n",
    "y = df[target]\n",
    "\n",
    "print(X.shape, y.shape)"
   ]
  },
  {
   "cell_type": "code",
   "execution_count": 127,
   "metadata": {},
   "outputs": [
    {
     "name": "stdout",
     "output_type": "stream",
     "text": [
      "(40, 1) (11, 1) (40, 1) (11, 1)\n"
     ]
    }
   ],
   "source": [
    "X_train, X_test, y_train, y_test = train_test_split(X, y, test_size=0.2, random_state=42)\n",
    "\n",
    "print(X_train.shape, X_test.shape, y_train.shape, y_test.shape)"
   ]
  },
  {
   "cell_type": "markdown",
   "metadata": {},
   "source": [
    "## Linear Regression"
   ]
  },
  {
   "cell_type": "code",
   "execution_count": null,
   "metadata": {},
   "outputs": [],
   "source": [
    "model = LinearRegression()\n",
    "model = model.fit(X_train, y_train"
   ]
  },
  {
   "cell_type": "raw",
   "metadata": {},
   "source": []
  },
  {
   "cell_type": "code",
   "execution_count": null,
   "metadata": {},
   "outputs": [],
   "source": []
  },
  {
   "cell_type": "code",
   "execution_count": null,
   "metadata": {},
   "outputs": [],
   "source": []
  },
  {
   "cell_type": "code",
   "execution_count": null,
   "metadata": {},
   "outputs": [],
   "source": []
  },
  {
   "cell_type": "code",
   "execution_count": null,
   "metadata": {},
   "outputs": [],
   "source": []
  }
 ],
 "metadata": {
  "kernelspec": {
   "display_name": "Python 3",
   "language": "python",
   "name": "python3"
  },
  "language_info": {
   "codemirror_mode": {
    "name": "ipython",
    "version": 3
   },
   "file_extension": ".py",
   "mimetype": "text/x-python",
   "name": "python",
   "nbconvert_exporter": "python",
   "pygments_lexer": "ipython3",
   "version": "3.8.5"
  }
 },
 "nbformat": 4,
 "nbformat_minor": 4
}
